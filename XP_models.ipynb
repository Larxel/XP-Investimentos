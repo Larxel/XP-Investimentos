{
 "cells": [
  {
   "cell_type": "code",
   "execution_count": 1,
   "metadata": {
    "collapsed": true
   },
   "outputs": [],
   "source": [
    "import pandas as pd\n",
    "import numpy  as np\n",
    "import lightgbm as lgb\n",
    "\n",
    "from matplotlib import pyplot\n",
    "%matplotlib inline"
   ]
  },
  {
   "cell_type": "markdown",
   "metadata": {},
   "source": [
    "## Read Data"
   ]
  },
  {
   "cell_type": "code",
   "execution_count": 3,
   "metadata": {},
   "outputs": [
    {
     "data": {
      "text/html": [
       "<div>\n",
       "<style scoped>\n",
       "    .dataframe tbody tr th:only-of-type {\n",
       "        vertical-align: middle;\n",
       "    }\n",
       "\n",
       "    .dataframe tbody tr th {\n",
       "        vertical-align: top;\n",
       "    }\n",
       "\n",
       "    .dataframe thead th {\n",
       "        text-align: right;\n",
       "    }\n",
       "</style>\n",
       "<table border=\"1\" class=\"dataframe\">\n",
       "  <thead>\n",
       "    <tr style=\"text-align: right;\">\n",
       "      <th></th>\n",
       "      <th>retorno</th>\n",
       "      <th>var38</th>\n",
       "      <th>time_dif</th>\n",
       "      <th>month_x</th>\n",
       "      <th>month_y</th>\n",
       "      <th>numday_x</th>\n",
       "      <th>numday_y</th>\n",
       "      <th>var1</th>\n",
       "      <th>categoria</th>\n",
       "    </tr>\n",
       "  </thead>\n",
       "  <tbody>\n",
       "    <tr>\n",
       "      <th>0</th>\n",
       "      <td>Nao</td>\n",
       "      <td>36</td>\n",
       "      <td>455</td>\n",
       "      <td>9</td>\n",
       "      <td>6</td>\n",
       "      <td>27</td>\n",
       "      <td>29</td>\n",
       "      <td>1</td>\n",
       "      <td>tipo2</td>\n",
       "    </tr>\n",
       "    <tr>\n",
       "      <th>1</th>\n",
       "      <td>Sim</td>\n",
       "      <td>76</td>\n",
       "      <td>686</td>\n",
       "      <td>11</td>\n",
       "      <td>1</td>\n",
       "      <td>23</td>\n",
       "      <td>6</td>\n",
       "      <td>1</td>\n",
       "      <td>tipo2</td>\n",
       "    </tr>\n",
       "    <tr>\n",
       "      <th>2</th>\n",
       "      <td>Sim</td>\n",
       "      <td>99</td>\n",
       "      <td>61</td>\n",
       "      <td>8</td>\n",
       "      <td>6</td>\n",
       "      <td>10</td>\n",
       "      <td>10</td>\n",
       "      <td>1</td>\n",
       "      <td>tipo4</td>\n",
       "    </tr>\n",
       "    <tr>\n",
       "      <th>3</th>\n",
       "      <td>Sim</td>\n",
       "      <td>84</td>\n",
       "      <td>70</td>\n",
       "      <td>10</td>\n",
       "      <td>7</td>\n",
       "      <td>5</td>\n",
       "      <td>27</td>\n",
       "      <td>1</td>\n",
       "      <td>tipo4</td>\n",
       "    </tr>\n",
       "    <tr>\n",
       "      <th>4</th>\n",
       "      <td>Sim</td>\n",
       "      <td>91</td>\n",
       "      <td>1</td>\n",
       "      <td>1</td>\n",
       "      <td>1</td>\n",
       "      <td>25</td>\n",
       "      <td>24</td>\n",
       "      <td>1</td>\n",
       "      <td>tipo5</td>\n",
       "    </tr>\n",
       "  </tbody>\n",
       "</table>\n",
       "</div>"
      ],
      "text/plain": [
       "  retorno  var38  time_dif  month_x  month_y  numday_x  numday_y  var1  \\\n",
       "0     Nao     36       455        9        6        27        29     1   \n",
       "1     Sim     76       686       11        1        23         6     1   \n",
       "2     Sim     99        61        8        6        10        10     1   \n",
       "3     Sim     84        70       10        7         5        27     1   \n",
       "4     Sim     91         1        1        1        25        24     1   \n",
       "\n",
       "  categoria  \n",
       "0     tipo2  \n",
       "1     tipo2  \n",
       "2     tipo4  \n",
       "3     tipo4  \n",
       "4     tipo5  "
      ]
     },
     "execution_count": 3,
     "metadata": {},
     "output_type": "execute_result"
    }
   ],
   "source": [
    "# [1] Read data\n",
    "train = pd.read_csv(\"truthfull_set.csv\")\n",
    "probe = pd.read_csv('holdout_set2.csv')\n",
    "train.head()"
   ]
  },
  {
   "cell_type": "markdown",
   "metadata": {},
   "source": [
    "## Data Preprocessing"
   ]
  },
  {
   "cell_type": "code",
   "execution_count": 4,
   "metadata": {},
   "outputs": [],
   "source": [
    "# [2] One hot encode 'categoria'\n",
    "train = pd.concat([train,pd.get_dummies(train['categoria'])],axis=1)\n",
    "train.drop('categoria',axis=1,inplace=True)\n",
    "\n",
    "probe = pd.concat([probe,pd.get_dummies(probe['categoria'])],axis=1)\n",
    "probe.drop('categoria',axis=1,inplace=True)\n"
   ]
  },
  {
   "cell_type": "code",
   "execution_count": 5,
   "metadata": {},
   "outputs": [],
   "source": [
    "# [3] Encode 'retorno' as binary, isolate from the main set\n",
    "train_y = np.where(train['retorno'].values == 'Sim',1,0)\n",
    "probe_y = np.where(probe['retorno'].values == 'Sim',1,0)\n"
   ]
  },
  {
   "cell_type": "code",
   "execution_count": 6,
   "metadata": {
    "collapsed": true
   },
   "outputs": [],
   "source": [
    "# [4] Drop unnecessary columns\n",
    "train.drop('retorno',axis=1,inplace=True)\n",
    "probe.drop('retorno',axis=1,inplace=True)\n",
    "probe.drop('ID',axis=1,inplace=True)"
   ]
  },
  {
   "cell_type": "markdown",
   "metadata": {},
   "source": [
    "## LightGBM"
   ]
  },
  {
   "cell_type": "code",
   "execution_count": 10,
   "metadata": {
    "collapsed": true
   },
   "outputs": [],
   "source": [
    "# [5] Create lgb datasets\n",
    "dtrain = lgb.Dataset(train, train_y.tolist())\n",
    "dvalid = lgb.Dataset(probe, probe_y.tolist(), reference=dtrain)"
   ]
  },
  {
   "cell_type": "code",
   "execution_count": 11,
   "metadata": {
    "collapsed": true
   },
   "outputs": [],
   "source": [
    "# [6] Set lightgbm parameters\n",
    "params = {\n",
    "    'num_leaves': 63,\n",
    "    'boosting_type':'gbdt',\n",
    "    'objective': 'regression',\n",
    "    'learning_rate':0.005,\n",
    "    'min_data_in_leaf': 30,\n",
    "    'feature_fraction': 0.8,\n",
    "    'bagging_fraction': 0.8,\n",
    "    'bagging_freq': 3,\n",
    "    'max_bin':256,\n",
    "    \"min_child_samples\": 10,\n",
    "    'metric': 'auc',\n",
    "    'reg_lambda': 0,\n",
    "    'min_split_gain': 0,\n",
    "    #'device': 'gpu'\n",
    "}\n",
    "\n",
    "num_rounds = 501"
   ]
  },
  {
   "cell_type": "code",
   "execution_count": 12,
   "metadata": {},
   "outputs": [
    {
     "name": "stdout",
     "output_type": "stream",
     "text": [
      "[10]\tcv_agg's auc: 0.902041 + 0.00254329\n",
      "[20]\tcv_agg's auc: 0.901776 + 0.00256346\n",
      "[30]\tcv_agg's auc: 0.902051 + 0.00250556\n",
      "[40]\tcv_agg's auc: 0.901601 + 0.00257185\n",
      "[50]\tcv_agg's auc: 0.901142 + 0.00261741\n",
      "[60]\tcv_agg's auc: 0.901228 + 0.00259362\n",
      "[70]\tcv_agg's auc: 0.901277 + 0.00261505\n",
      "[80]\tcv_agg's auc: 0.901551 + 0.00259653\n",
      "[90]\tcv_agg's auc: 0.901804 + 0.00260093\n",
      "[100]\tcv_agg's auc: 0.901732 + 0.00259859\n",
      "[110]\tcv_agg's auc: 0.901727 + 0.0025564\n"
     ]
    }
   ],
   "source": [
    "# [7] Create cross validation model for hyp. tunning\n",
    "lgb_cv = lgb.cv(params = params,\n",
    "                train_set = dtrain,\n",
    "                nfold = 4,\n",
    "                num_boost_round = num_rounds,\n",
    "                early_stopping_rounds = 100,\n",
    "                stratified = True,\n",
    "                shuffle = True,\n",
    "                metrics = 'auc',\n",
    "                verbose_eval = 10,\n",
    "                seed = 451)"
   ]
  },
  {
   "cell_type": "code",
   "execution_count": 31,
   "metadata": {
    "scrolled": true
   },
   "outputs": [
    {
     "name": "stdout",
     "output_type": "stream",
     "text": [
      "Training until validation scores don't improve for 100 rounds.\n",
      "[50]\ttraining's auc: 0.904435\tvalid_1's auc: 0.887593\n",
      "[100]\ttraining's auc: 0.905552\tvalid_1's auc: 0.888237\n",
      "Early stopping, best iteration is:\n",
      "[16]\ttraining's auc: 0.905453\tvalid_1's auc: 0.888545\n"
     ]
    }
   ],
   "source": [
    "# [8] Fit Lgb model and evaluate on the holdout set\n",
    "lgb_model = lgb.train(params = params, \n",
    "                      train_set  = dtrain, \n",
    "                      valid_sets = [dtrain,dvalid], \n",
    "                      num_boost_round = 200, \n",
    "                      early_stopping_rounds = 100,\n",
    "                      verbose_eval = 50)"
   ]
  },
  {
   "cell_type": "markdown",
   "metadata": {},
   "source": [
    "## Keras/Tensorflow Neural Network"
   ]
  },
  {
   "cell_type": "code",
   "execution_count": 26,
   "metadata": {},
   "outputs": [],
   "source": [
    "from keras.models import Sequential\n",
    "from keras.layers import Dense, Dropout, BatchNormalization\n",
    "from keras.optimizers import Adam\n",
    "from keras.layers.advanced_activations import PReLU\n",
    "from sklearn.preprocessing import MinMaxScaler\n",
    "from sklearn.metrics import roc_auc_score"
   ]
  },
  {
   "cell_type": "code",
   "execution_count": 15,
   "metadata": {},
   "outputs": [
    {
     "name": "stdout",
     "output_type": "stream",
     "text": [
      "WARNING:tensorflow:From /home/larxel/.local/lib/python3.6/site-packages/keras/backend/tensorflow_backend.py:1108: calling reduce_mean (from tensorflow.python.ops.math_ops) with keep_dims is deprecated and will be removed in a future version.\n",
      "Instructions for updating:\n",
      "keep_dims is deprecated, use keepdims instead\n"
     ]
    }
   ],
   "source": [
    "# [9] Create Keras-TF bad boi\n",
    "model = Sequential()\n",
    "\n",
    "model.add(Dense(512, init='he_normal', input_shape=(train.shape[1],), ))\n",
    "model.add(Dropout(.5))\n",
    "model.add(PReLU())\n",
    "model.add(BatchNormalization())\n",
    "\n",
    "model.add(Dense(128, init='he_normal'))\n",
    "model.add(Dropout(.5))\n",
    "model.add(PReLU())\n",
    "model.add(BatchNormalization())\n",
    "\n",
    "\n",
    "model.add(Dense(1,activation='sigmoid'))\n",
    "jensen = Adam(lr=1e-4, decay=0)\n",
    "model.compile(loss='binary_crossentropy',optimizer=jensen, metrics=['accuracy'])\n"
   ]
  },
  {
   "cell_type": "code",
   "execution_count": 16,
   "metadata": {},
   "outputs": [
    {
     "name": "stdout",
     "output_type": "stream",
     "text": [
      "____________________________________________________________________________________________________\n",
      "Layer (type)                     Output Shape          Param #     Connected to                     \n",
      "====================================================================================================\n",
      "dense_1 (Dense)                  (None, 512)           7168        dense_input_1[0][0]              \n",
      "____________________________________________________________________________________________________\n",
      "dropout_1 (Dropout)              (None, 512)           0           dense_1[0][0]                    \n",
      "____________________________________________________________________________________________________\n",
      "prelu_1 (PReLU)                  (None, 512)           512         dropout_1[0][0]                  \n",
      "____________________________________________________________________________________________________\n",
      "batchnormalization_1 (BatchNorma (None, 512)           2048        prelu_1[0][0]                    \n",
      "____________________________________________________________________________________________________\n",
      "dense_2 (Dense)                  (None, 128)           65664       batchnormalization_1[0][0]       \n",
      "____________________________________________________________________________________________________\n",
      "dropout_2 (Dropout)              (None, 128)           0           dense_2[0][0]                    \n",
      "____________________________________________________________________________________________________\n",
      "prelu_2 (PReLU)                  (None, 128)           128         dropout_2[0][0]                  \n",
      "____________________________________________________________________________________________________\n",
      "batchnormalization_2 (BatchNorma (None, 128)           512         prelu_2[0][0]                    \n",
      "____________________________________________________________________________________________________\n",
      "dense_3 (Dense)                  (None, 1)             129         batchnormalization_2[0][0]       \n",
      "====================================================================================================\n",
      "Total params: 76,161\n",
      "Trainable params: 74,881\n",
      "Non-trainable params: 1,280\n",
      "____________________________________________________________________________________________________\n"
     ]
    }
   ],
   "source": [
    "model.summary()"
   ]
  },
  {
   "cell_type": "code",
   "execution_count": 22,
   "metadata": {},
   "outputs": [],
   "source": [
    "# [10] Change data scale\n",
    "scaler = MinMaxScaler()\n",
    "train  = scaler.fit_transform(train)\n",
    "\n",
    "scaler = MinMaxScaler()\n",
    "probe  = scaler.fit_transform(probe)\n"
   ]
  },
  {
   "cell_type": "code",
   "execution_count": 25,
   "metadata": {
    "scrolled": true
   },
   "outputs": [
    {
     "name": "stdout",
     "output_type": "stream",
     "text": [
      "Train on 123837 samples, validate on 581903 samples\n",
      "Epoch 1/100\n",
      "17s - loss: 0.4957 - acc: 0.7752 - val_loss: 0.4008 - val_acc: 0.8278\n",
      "Epoch 2/100\n",
      "16s - loss: 0.4285 - acc: 0.8085 - val_loss: 0.3958 - val_acc: 0.8298\n",
      "Epoch 3/100\n",
      "15s - loss: 0.4105 - acc: 0.8173 - val_loss: 0.3939 - val_acc: 0.8309\n",
      "Epoch 4/100\n",
      "15s - loss: 0.4000 - acc: 0.8236 - val_loss: 0.3909 - val_acc: 0.8303\n",
      "Epoch 5/100\n",
      "15s - loss: 0.3941 - acc: 0.8257 - val_loss: 0.3899 - val_acc: 0.8291\n",
      "Epoch 6/100\n",
      "15s - loss: 0.3898 - acc: 0.8290 - val_loss: 0.3879 - val_acc: 0.8299\n",
      "Epoch 7/100\n",
      "15s - loss: 0.3881 - acc: 0.8280 - val_loss: 0.3873 - val_acc: 0.8291\n",
      "Epoch 8/100\n",
      "15s - loss: 0.3858 - acc: 0.8304 - val_loss: 0.3860 - val_acc: 0.8291\n",
      "Epoch 9/100\n",
      "15s - loss: 0.3832 - acc: 0.8318 - val_loss: 0.3852 - val_acc: 0.8300\n",
      "Epoch 10/100\n",
      "16s - loss: 0.3825 - acc: 0.8316 - val_loss: 0.3844 - val_acc: 0.8312\n",
      "Epoch 11/100\n",
      "15s - loss: 0.3804 - acc: 0.8319 - val_loss: 0.3837 - val_acc: 0.8310\n",
      "Epoch 12/100\n",
      "15s - loss: 0.3807 - acc: 0.8317 - val_loss: 0.3826 - val_acc: 0.8305\n",
      "Epoch 13/100\n",
      "15s - loss: 0.3790 - acc: 0.8328 - val_loss: 0.3818 - val_acc: 0.8325\n",
      "Epoch 14/100\n",
      "15s - loss: 0.3786 - acc: 0.8332 - val_loss: 0.3819 - val_acc: 0.8318\n",
      "Epoch 15/100\n",
      "16s - loss: 0.3764 - acc: 0.8341 - val_loss: 0.3805 - val_acc: 0.8323\n",
      "Epoch 16/100\n",
      "15s - loss: 0.3763 - acc: 0.8345 - val_loss: 0.3798 - val_acc: 0.8332\n",
      "Epoch 17/100\n",
      "16s - loss: 0.3756 - acc: 0.8344 - val_loss: 0.3795 - val_acc: 0.8333\n",
      "Epoch 18/100\n",
      "15s - loss: 0.3748 - acc: 0.8351 - val_loss: 0.3787 - val_acc: 0.8335\n",
      "Epoch 19/100\n",
      "16s - loss: 0.3742 - acc: 0.8357 - val_loss: 0.3779 - val_acc: 0.8341\n",
      "Epoch 20/100\n",
      "15s - loss: 0.3722 - acc: 0.8360 - val_loss: 0.3771 - val_acc: 0.8338\n",
      "Epoch 21/100\n",
      "16s - loss: 0.3723 - acc: 0.8355 - val_loss: 0.3770 - val_acc: 0.8345\n",
      "Epoch 22/100\n",
      "16s - loss: 0.3713 - acc: 0.8366 - val_loss: 0.3765 - val_acc: 0.8345\n",
      "Epoch 23/100\n",
      "16s - loss: 0.3711 - acc: 0.8373 - val_loss: 0.3758 - val_acc: 0.8348\n",
      "Epoch 24/100\n",
      "15s - loss: 0.3712 - acc: 0.8369 - val_loss: 0.3757 - val_acc: 0.8349\n",
      "Epoch 25/100\n",
      "16s - loss: 0.3697 - acc: 0.8375 - val_loss: 0.3749 - val_acc: 0.8347\n",
      "Epoch 26/100\n",
      "15s - loss: 0.3679 - acc: 0.8382 - val_loss: 0.3753 - val_acc: 0.8345\n",
      "Epoch 27/100\n",
      "15s - loss: 0.3680 - acc: 0.8382 - val_loss: 0.3758 - val_acc: 0.8344\n",
      "Epoch 28/100\n",
      "15s - loss: 0.3671 - acc: 0.8380 - val_loss: 0.3746 - val_acc: 0.8347\n",
      "Epoch 29/100\n",
      "16s - loss: 0.3675 - acc: 0.8388 - val_loss: 0.3750 - val_acc: 0.8345\n",
      "Epoch 30/100\n",
      "16s - loss: 0.3664 - acc: 0.8385 - val_loss: 0.3740 - val_acc: 0.8347\n",
      "Epoch 31/100\n",
      "16s - loss: 0.3668 - acc: 0.8382 - val_loss: 0.3745 - val_acc: 0.8345\n",
      "Epoch 32/100\n",
      "16s - loss: 0.3657 - acc: 0.8389 - val_loss: 0.3738 - val_acc: 0.8347\n",
      "Epoch 33/100\n",
      "15s - loss: 0.3659 - acc: 0.8391 - val_loss: 0.3739 - val_acc: 0.8344\n",
      "Epoch 34/100\n",
      "15s - loss: 0.3660 - acc: 0.8385 - val_loss: 0.3743 - val_acc: 0.8344\n",
      "Epoch 35/100\n",
      "15s - loss: 0.3643 - acc: 0.8400 - val_loss: 0.3741 - val_acc: 0.8344\n",
      "Epoch 36/100\n",
      "15s - loss: 0.3643 - acc: 0.8393 - val_loss: 0.3739 - val_acc: 0.8345\n",
      "Epoch 37/100\n",
      "16s - loss: 0.3637 - acc: 0.8398 - val_loss: 0.3734 - val_acc: 0.8346\n",
      "Epoch 38/100\n",
      "16s - loss: 0.3635 - acc: 0.8395 - val_loss: 0.3743 - val_acc: 0.8347\n",
      "Epoch 39/100\n",
      "15s - loss: 0.3635 - acc: 0.8403 - val_loss: 0.3741 - val_acc: 0.8349\n",
      "Epoch 40/100\n",
      "15s - loss: 0.3632 - acc: 0.8400 - val_loss: 0.3736 - val_acc: 0.8349\n",
      "Epoch 41/100\n",
      "15s - loss: 0.3626 - acc: 0.8404 - val_loss: 0.3741 - val_acc: 0.8347\n",
      "Epoch 42/100\n",
      "15s - loss: 0.3630 - acc: 0.8397 - val_loss: 0.3735 - val_acc: 0.8349\n",
      "Epoch 43/100\n",
      "15s - loss: 0.3626 - acc: 0.8404 - val_loss: 0.3742 - val_acc: 0.8347\n",
      "Epoch 44/100\n",
      "16s - loss: 0.3622 - acc: 0.8406 - val_loss: 0.3735 - val_acc: 0.8348\n",
      "Epoch 45/100\n",
      "15s - loss: 0.3622 - acc: 0.8402 - val_loss: 0.3729 - val_acc: 0.8349\n",
      "Epoch 46/100\n",
      "15s - loss: 0.3617 - acc: 0.8406 - val_loss: 0.3733 - val_acc: 0.8349\n",
      "Epoch 47/100\n",
      "15s - loss: 0.3609 - acc: 0.8403 - val_loss: 0.3733 - val_acc: 0.8348\n",
      "Epoch 48/100\n",
      "15s - loss: 0.3619 - acc: 0.8401 - val_loss: 0.3733 - val_acc: 0.8347\n",
      "Epoch 49/100\n",
      "15s - loss: 0.3616 - acc: 0.8405 - val_loss: 0.3728 - val_acc: 0.8349\n",
      "Epoch 50/100\n",
      "15s - loss: 0.3609 - acc: 0.8409 - val_loss: 0.3730 - val_acc: 0.8349\n",
      "Epoch 51/100\n",
      "15s - loss: 0.3607 - acc: 0.8413 - val_loss: 0.3734 - val_acc: 0.8350\n",
      "Epoch 52/100\n",
      "16s - loss: 0.3615 - acc: 0.8405 - val_loss: 0.3732 - val_acc: 0.8349\n",
      "Epoch 53/100\n",
      "15s - loss: 0.3612 - acc: 0.8413 - val_loss: 0.3745 - val_acc: 0.8345\n",
      "Epoch 54/100\n",
      "15s - loss: 0.3599 - acc: 0.8407 - val_loss: 0.3736 - val_acc: 0.8349\n",
      "Epoch 55/100\n",
      "16s - loss: 0.3600 - acc: 0.8414 - val_loss: 0.3738 - val_acc: 0.8348\n",
      "Epoch 56/100\n",
      "15s - loss: 0.3607 - acc: 0.8410 - val_loss: 0.3741 - val_acc: 0.8350\n",
      "Epoch 57/100\n",
      "16s - loss: 0.3598 - acc: 0.8414 - val_loss: 0.3735 - val_acc: 0.8350\n",
      "Epoch 58/100\n",
      "15s - loss: 0.3602 - acc: 0.8418 - val_loss: 0.3741 - val_acc: 0.8348\n",
      "Epoch 59/100\n",
      "16s - loss: 0.3606 - acc: 0.8413 - val_loss: 0.3734 - val_acc: 0.8350\n",
      "Epoch 60/100\n",
      "16s - loss: 0.3603 - acc: 0.8414 - val_loss: 0.3734 - val_acc: 0.8349\n",
      "Epoch 61/100\n",
      "16s - loss: 0.3597 - acc: 0.8412 - val_loss: 0.3728 - val_acc: 0.8351\n",
      "Epoch 62/100\n",
      "16s - loss: 0.3595 - acc: 0.8412 - val_loss: 0.3740 - val_acc: 0.8351\n",
      "Epoch 63/100\n",
      "15s - loss: 0.3600 - acc: 0.8413 - val_loss: 0.3732 - val_acc: 0.8351\n",
      "Epoch 64/100\n",
      "15s - loss: 0.3600 - acc: 0.8417 - val_loss: 0.3723 - val_acc: 0.8350\n",
      "Epoch 65/100\n",
      "16s - loss: 0.3594 - acc: 0.8417 - val_loss: 0.3721 - val_acc: 0.8352\n",
      "Epoch 66/100\n",
      "15s - loss: 0.3595 - acc: 0.8411 - val_loss: 0.3730 - val_acc: 0.8350\n",
      "Epoch 67/100\n",
      "15s - loss: 0.3594 - acc: 0.8414 - val_loss: 0.3740 - val_acc: 0.8353\n",
      "Epoch 68/100\n",
      "15s - loss: 0.3590 - acc: 0.8415 - val_loss: 0.3718 - val_acc: 0.8351\n",
      "Epoch 69/100\n",
      "16s - loss: 0.3589 - acc: 0.8415 - val_loss: 0.3728 - val_acc: 0.8352\n",
      "Epoch 70/100\n",
      "15s - loss: 0.3591 - acc: 0.8416 - val_loss: 0.3719 - val_acc: 0.8351\n",
      "Epoch 71/100\n",
      "15s - loss: 0.3583 - acc: 0.8417 - val_loss: 0.3720 - val_acc: 0.8351\n",
      "Epoch 72/100\n",
      "15s - loss: 0.3588 - acc: 0.8418 - val_loss: 0.3728 - val_acc: 0.8351\n",
      "Epoch 73/100\n",
      "15s - loss: 0.3594 - acc: 0.8415 - val_loss: 0.3721 - val_acc: 0.8351\n",
      "Epoch 74/100\n",
      "15s - loss: 0.3581 - acc: 0.8420 - val_loss: 0.3724 - val_acc: 0.8350\n",
      "Epoch 75/100\n",
      "15s - loss: 0.3589 - acc: 0.8415 - val_loss: 0.3737 - val_acc: 0.8350\n",
      "Epoch 76/100\n",
      "15s - loss: 0.3584 - acc: 0.8422 - val_loss: 0.3726 - val_acc: 0.8352\n",
      "Epoch 77/100\n",
      "15s - loss: 0.3592 - acc: 0.8416 - val_loss: 0.3733 - val_acc: 0.8349\n",
      "Epoch 78/100\n",
      "15s - loss: 0.3585 - acc: 0.8417 - val_loss: 0.3729 - val_acc: 0.8350\n",
      "Epoch 79/100\n",
      "15s - loss: 0.3587 - acc: 0.8417 - val_loss: 0.3721 - val_acc: 0.8351\n",
      "Epoch 80/100\n",
      "16s - loss: 0.3583 - acc: 0.8419 - val_loss: 0.3731 - val_acc: 0.8350\n",
      "Epoch 81/100\n",
      "15s - loss: 0.3583 - acc: 0.8423 - val_loss: 0.3720 - val_acc: 0.8351\n",
      "Epoch 82/100\n",
      "15s - loss: 0.3582 - acc: 0.8418 - val_loss: 0.3722 - val_acc: 0.8352\n",
      "Epoch 83/100\n",
      "16s - loss: 0.3587 - acc: 0.8419 - val_loss: 0.3727 - val_acc: 0.8349\n",
      "Epoch 84/100\n",
      "16s - loss: 0.3584 - acc: 0.8418 - val_loss: 0.3728 - val_acc: 0.8351\n",
      "Epoch 85/100\n",
      "15s - loss: 0.3575 - acc: 0.8420 - val_loss: 0.3717 - val_acc: 0.8351\n",
      "Epoch 86/100\n",
      "15s - loss: 0.3590 - acc: 0.8418 - val_loss: 0.3736 - val_acc: 0.8348\n",
      "Epoch 87/100\n",
      "15s - loss: 0.3582 - acc: 0.8421 - val_loss: 0.3722 - val_acc: 0.8352\n",
      "Epoch 88/100\n",
      "15s - loss: 0.3579 - acc: 0.8419 - val_loss: 0.3727 - val_acc: 0.8352\n",
      "Epoch 89/100\n",
      "15s - loss: 0.3574 - acc: 0.8419 - val_loss: 0.3724 - val_acc: 0.8351\n",
      "Epoch 90/100\n",
      "16s - loss: 0.3577 - acc: 0.8414 - val_loss: 0.3730 - val_acc: 0.8349\n",
      "Epoch 91/100\n",
      "15s - loss: 0.3577 - acc: 0.8419 - val_loss: 0.3732 - val_acc: 0.8348\n",
      "Epoch 92/100\n",
      "16s - loss: 0.3583 - acc: 0.8417 - val_loss: 0.3726 - val_acc: 0.8349\n",
      "Epoch 93/100\n",
      "15s - loss: 0.3580 - acc: 0.8411 - val_loss: 0.3730 - val_acc: 0.8350\n",
      "Epoch 94/100\n",
      "15s - loss: 0.3582 - acc: 0.8421 - val_loss: 0.3720 - val_acc: 0.8351\n",
      "Epoch 95/100\n",
      "16s - loss: 0.3571 - acc: 0.8420 - val_loss: 0.3721 - val_acc: 0.8348\n",
      "Epoch 96/100\n",
      "15s - loss: 0.3573 - acc: 0.8416 - val_loss: 0.3721 - val_acc: 0.8349\n",
      "Epoch 97/100\n",
      "16s - loss: 0.3573 - acc: 0.8425 - val_loss: 0.3729 - val_acc: 0.8348\n",
      "Epoch 98/100\n",
      "15s - loss: 0.3573 - acc: 0.8419 - val_loss: 0.3730 - val_acc: 0.8350\n",
      "Epoch 99/100\n",
      "15s - loss: 0.3574 - acc: 0.8420 - val_loss: 0.3728 - val_acc: 0.8349\n",
      "Epoch 100/100\n"
     ]
    },
    {
     "name": "stdout",
     "output_type": "stream",
     "text": [
      "15s - loss: 0.3573 - acc: 0.8422 - val_loss: 0.3727 - val_acc: 0.8347\n"
     ]
    },
    {
     "data": {
      "text/plain": [
       "<keras.callbacks.History at 0x7fd4f78eaf60>"
      ]
     },
     "execution_count": 25,
     "metadata": {},
     "output_type": "execute_result"
    }
   ],
   "source": [
    "# [11] Fit bad boi, evaluate on the holdout set\n",
    "model.fit(x = train,\n",
    "          y = train_y,\n",
    "          batch_size = 64,\n",
    "          nb_epoch = 100,\n",
    "          verbose=2, \n",
    "          validation_data=(probe,probe_y) )"
   ]
  },
  {
   "cell_type": "markdown",
   "metadata": {},
   "source": [
    "## Model Evaluation & Ensembling"
   ]
  },
  {
   "cell_type": "code",
   "execution_count": 27,
   "metadata": {},
   "outputs": [
    {
     "data": {
      "text/plain": [
       "0.8862473179273296"
      ]
     },
     "execution_count": 27,
     "metadata": {},
     "output_type": "execute_result"
    }
   ],
   "source": [
    "# [12] Evaluate NN in the holdout set\n",
    "probe_pred = model.predict(probe)\n",
    "roc_auc_score(probe_y, probe_pred)\n",
    "\n"
   ]
  },
  {
   "cell_type": "code",
   "execution_count": 34,
   "metadata": {},
   "outputs": [
    {
     "data": {
      "text/plain": [
       "0.8885450006107667"
      ]
     },
     "execution_count": 34,
     "metadata": {},
     "output_type": "execute_result"
    }
   ],
   "source": [
    "# [13] Evaluate Lgbm in the holdout set\n",
    "probe_pred_lgb = lgb_model.predict(scaler.inverse_transform(probe))\n",
    "roc_auc_score(probe_y, probe_pred_lgb)\n"
   ]
  },
  {
   "cell_type": "code",
   "execution_count": 69,
   "metadata": {},
   "outputs": [
    {
     "data": {
      "text/plain": [
       "0.8886615658398007"
      ]
     },
     "execution_count": 69,
     "metadata": {},
     "output_type": "execute_result"
    }
   ],
   "source": [
    "# [14] Nothing fancy, just a linear stacking\n",
    "ensemble_probe_pred = np.add(np.multiply(probe_pred_lgb,0.96), (np.multiply(probe_pred,0.04).ravel()))\n",
    "roc_auc_score(probe_y, ensemble_probe_pred)\n"
   ]
  },
  {
   "cell_type": "markdown",
   "metadata": {},
   "source": [
    "## Generate Final Predictions"
   ]
  },
  {
   "cell_type": "code",
   "execution_count": 71,
   "metadata": {},
   "outputs": [
    {
     "data": {
      "text/html": [
       "<div>\n",
       "<style scoped>\n",
       "    .dataframe tbody tr th:only-of-type {\n",
       "        vertical-align: middle;\n",
       "    }\n",
       "\n",
       "    .dataframe tbody tr th {\n",
       "        vertical-align: top;\n",
       "    }\n",
       "\n",
       "    .dataframe thead th {\n",
       "        text-align: right;\n",
       "    }\n",
       "</style>\n",
       "<table border=\"1\" class=\"dataframe\">\n",
       "  <thead>\n",
       "    <tr style=\"text-align: right;\">\n",
       "      <th></th>\n",
       "      <th>ID</th>\n",
       "      <th>var38</th>\n",
       "      <th>time_dif</th>\n",
       "      <th>month_x</th>\n",
       "      <th>month_y</th>\n",
       "      <th>numday_x</th>\n",
       "      <th>numday_y</th>\n",
       "      <th>var1</th>\n",
       "      <th>categoria</th>\n",
       "    </tr>\n",
       "  </thead>\n",
       "  <tbody>\n",
       "    <tr>\n",
       "      <th>0</th>\n",
       "      <td>cli_100</td>\n",
       "      <td>36</td>\n",
       "      <td>766</td>\n",
       "      <td>8</td>\n",
       "      <td>6</td>\n",
       "      <td>4</td>\n",
       "      <td>29</td>\n",
       "      <td>0</td>\n",
       "      <td>tipo2</td>\n",
       "    </tr>\n",
       "    <tr>\n",
       "      <th>1</th>\n",
       "      <td>cli_100</td>\n",
       "      <td>36</td>\n",
       "      <td>766</td>\n",
       "      <td>8</td>\n",
       "      <td>6</td>\n",
       "      <td>4</td>\n",
       "      <td>29</td>\n",
       "      <td>0</td>\n",
       "      <td>tipo4</td>\n",
       "    </tr>\n",
       "    <tr>\n",
       "      <th>2</th>\n",
       "      <td>cli_100</td>\n",
       "      <td>36</td>\n",
       "      <td>788</td>\n",
       "      <td>8</td>\n",
       "      <td>6</td>\n",
       "      <td>26</td>\n",
       "      <td>29</td>\n",
       "      <td>0</td>\n",
       "      <td>tipo4</td>\n",
       "    </tr>\n",
       "    <tr>\n",
       "      <th>3</th>\n",
       "      <td>cli_100</td>\n",
       "      <td>36</td>\n",
       "      <td>788</td>\n",
       "      <td>8</td>\n",
       "      <td>6</td>\n",
       "      <td>26</td>\n",
       "      <td>29</td>\n",
       "      <td>0</td>\n",
       "      <td>tipo2</td>\n",
       "    </tr>\n",
       "    <tr>\n",
       "      <th>4</th>\n",
       "      <td>cli_100003</td>\n",
       "      <td>99</td>\n",
       "      <td>418</td>\n",
       "      <td>8</td>\n",
       "      <td>6</td>\n",
       "      <td>2</td>\n",
       "      <td>10</td>\n",
       "      <td>0</td>\n",
       "      <td>tipo2</td>\n",
       "    </tr>\n",
       "  </tbody>\n",
       "</table>\n",
       "</div>"
      ],
      "text/plain": [
       "           ID  var38  time_dif  month_x  month_y  numday_x  numday_y  var1  \\\n",
       "0     cli_100     36       766        8        6         4        29     0   \n",
       "1     cli_100     36       766        8        6         4        29     0   \n",
       "2     cli_100     36       788        8        6        26        29     0   \n",
       "3     cli_100     36       788        8        6        26        29     0   \n",
       "4  cli_100003     99       418        8        6         2        10     0   \n",
       "\n",
       "  categoria  \n",
       "0     tipo2  \n",
       "1     tipo4  \n",
       "2     tipo4  \n",
       "3     tipo2  \n",
       "4     tipo2  "
      ]
     },
     "execution_count": 71,
     "metadata": {},
     "output_type": "execute_result"
    }
   ],
   "source": [
    "# [15] Read Testing Data\n",
    "test = pd.read_csv(\"testing_set.csv\")\n",
    "test.head()"
   ]
  },
  {
   "cell_type": "code",
   "execution_count": 72,
   "metadata": {
    "collapsed": true
   },
   "outputs": [],
   "source": [
    "# [16] One Hot Encode 'categoria'\n",
    "test = pd.concat([test,pd.get_dummies(test['categoria'])],axis=1)\n",
    "test.drop('categoria',axis=1,inplace=True)\n",
    "\n",
    "# [17] Isolate IDs\n",
    "test_id = test['ID']\n",
    "test.drop('ID',axis=1,inplace=True)"
   ]
  },
  {
   "cell_type": "code",
   "execution_count": 75,
   "metadata": {
    "collapsed": true
   },
   "outputs": [],
   "source": [
    "# [18] Generate Lgb and DNN predictions\n",
    "lgb_final_pred = lgb_model.predict(test)\n",
    "dnn_final_pred = model.predict(scaler.transform(test))"
   ]
  },
  {
   "cell_type": "code",
   "execution_count": 76,
   "metadata": {
    "collapsed": true
   },
   "outputs": [],
   "source": [
    "# [19] Ensemble Predictions\n",
    "ensemble_final_pred = np.add(np.multiply(lgb_final_pred,0.96), (np.multiply(dnn_final_pred,0.04).ravel()))\n",
    "\n",
    "# [20] Create dataframe with IDs and export file\n",
    "final_df = pd.DataFrame(ensemble_final_pred, index=test_id)\n",
    "final_df.to_csv('final_pred.csv')"
   ]
  },
  {
   "cell_type": "markdown",
   "metadata": {},
   "source": [
    "#### All done, thank you for the challenge."
   ]
  }
 ],
 "metadata": {
  "kernelspec": {
   "display_name": "Python 3",
   "language": "python",
   "name": "python3"
  },
  "language_info": {
   "codemirror_mode": {
    "name": "ipython",
    "version": 3
   },
   "file_extension": ".py",
   "mimetype": "text/x-python",
   "name": "python",
   "nbconvert_exporter": "python",
   "pygments_lexer": "ipython3",
   "version": "3.6.3"
  }
 },
 "nbformat": 4,
 "nbformat_minor": 2
}
